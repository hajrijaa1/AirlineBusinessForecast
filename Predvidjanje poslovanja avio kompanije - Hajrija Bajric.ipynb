{
 "cells": [
  {
   "cell_type": "markdown",
   "id": "3833c77e",
   "metadata": {},
   "source": [
    "# Poslovna inteligencija - projektni rad\n",
    "Hajrija Bajrić, II-73"
   ]
  },
  {
   "cell_type": "code",
   "execution_count": 3,
   "id": "57d7d5ca",
   "metadata": {},
   "outputs": [
    {
     "data": {
      "text/html": [
       "        <script type=\"text/javascript\">\n",
       "        window.PlotlyConfig = {MathJaxConfig: 'local'};\n",
       "        if (window.MathJax && window.MathJax.Hub && window.MathJax.Hub.Config) {window.MathJax.Hub.Config({SVG: {font: \"STIX-Web\"}});}\n",
       "        if (typeof require !== 'undefined') {\n",
       "        require.undef(\"plotly\");\n",
       "        requirejs.config({\n",
       "            paths: {\n",
       "                'plotly': ['https://cdn.plot.ly/plotly-2.12.1.min']\n",
       "            }\n",
       "        });\n",
       "        require(['plotly'], function(Plotly) {\n",
       "            window._Plotly = Plotly;\n",
       "        });\n",
       "        }\n",
       "        </script>\n",
       "        "
      ]
     },
     "metadata": {},
     "output_type": "display_data"
    }
   ],
   "source": [
    "import pandas as pd \n",
    "import numpy as np \n",
    "\n",
    "from sklearn.tree import DecisionTreeClassifier\n",
    "from sklearn.model_selection import train_test_split\n",
    "from sklearn import metrics\n",
    "import plotly.offline as py \n",
    "py.init_notebook_mode(connected=True) \n",
    "import plotly.graph_objs as go \n",
    "import plotly.tools as tls \n",
    "import warnings \n",
    "from collections import Counter"
   ]
  },
  {
   "cell_type": "markdown",
   "id": "29d4d0e7",
   "metadata": {},
   "source": [
    "Učitavanje seta podataka"
   ]
  },
  {
   "cell_type": "code",
   "execution_count": 4,
   "id": "50745279",
   "metadata": {},
   "outputs": [],
   "source": [
    "podaci = pd.read_csv(\"avio_kompanija.csv\")"
   ]
  },
  {
   "cell_type": "markdown",
   "id": "950d7c96",
   "metadata": {},
   "source": [
    "Pregled seta podataka"
   ]
  },
  {
   "cell_type": "code",
   "execution_count": 5,
   "id": "342e1bb2",
   "metadata": {},
   "outputs": [
    {
     "name": "stdout",
     "output_type": "stream",
     "text": [
      "         spol       tip_putnika  godine     vrsta_putovanja      klasa  \\\n",
      "0      zensko    Lojalan putnik      52  Poslovno putovanje  Ekonomska   \n",
      "1      zensko    Lojalan putnik      36  Poslovno putovanje   Poslovna   \n",
      "2       musko  Nelojalan putnik      20  Poslovno putovanje  Ekonomska   \n",
      "3       musko    Lojalan putnik      44  Poslovno putovanje   Poslovna   \n",
      "4      zensko    Lojalan putnik      49  Poslovno putovanje  Ekonomska   \n",
      "...       ...               ...     ...                 ...        ...   \n",
      "25971   musko  Nelojalan putnik      34  Poslovno putovanje   Poslovna   \n",
      "25972   musko    Lojalan putnik      23  Poslovno putovanje   Poslovna   \n",
      "25973  zensko    Lojalan putnik      17     Licno putovanje  Ekonomska   \n",
      "25974   musko    Lojalan putnik      14  Poslovno putovanje   Poslovna   \n",
      "25975  zensko    Lojalan putnik      42     Licno putovanje  Ekonomska   \n",
      "\n",
      "       udaljenost_leta  vrijeme_odlaska_dolaska  kasnjenje_polaska_u_minutama  \\\n",
      "0                  160                        4                            50   \n",
      "1                 2863                        1                             0   \n",
      "2                  192                        0                             0   \n",
      "3                 3377                        0                             0   \n",
      "4                 1182                        3                             0   \n",
      "...                ...                      ...                           ...   \n",
      "25971              526                        3                             0   \n",
      "25972              646                        4                             0   \n",
      "25973              828                        5                             0   \n",
      "25974             1127                        3                             0   \n",
      "25975              264                        5                             0   \n",
      "\n",
      "       kasnjenje_dolaska_u_minutama        zadovoljstvo_putnika  \n",
      "0                              44.0                  Zadovoljan  \n",
      "1                               0.0                  Zadovoljan  \n",
      "2                               0.0  Neutralan ili nezadovoljan  \n",
      "3                               6.0                  Zadovoljan  \n",
      "4                              20.0                  Zadovoljan  \n",
      "...                             ...                         ...  \n",
      "25971                           0.0  Neutralan ili nezadovoljan  \n",
      "25972                           0.0                  Zadovoljan  \n",
      "25973                           0.0  Neutralan ili nezadovoljan  \n",
      "25974                           0.0                  Zadovoljan  \n",
      "25975                           0.0  Neutralan ili nezadovoljan  \n",
      "\n",
      "[25976 rows x 10 columns]\n"
     ]
    }
   ],
   "source": [
    "print(podaci)"
   ]
  },
  {
   "cell_type": "markdown",
   "id": "0d6a0c69",
   "metadata": {},
   "source": [
    "Pregled osnovnih podataka u setu podataka"
   ]
  },
  {
   "cell_type": "code",
   "execution_count": 6,
   "id": "ec72669d",
   "metadata": {},
   "outputs": [
    {
     "name": "stdout",
     "output_type": "stream",
     "text": [
      "<class 'pandas.core.frame.DataFrame'>\n",
      "RangeIndex: 25976 entries, 0 to 25975\n",
      "Data columns (total 10 columns):\n",
      " #   Column                        Non-Null Count  Dtype  \n",
      "---  ------                        --------------  -----  \n",
      " 0   spol                          25976 non-null  object \n",
      " 1   tip_putnika                   25976 non-null  object \n",
      " 2   godine                        25976 non-null  int64  \n",
      " 3   vrsta_putovanja               25976 non-null  object \n",
      " 4   klasa                         25976 non-null  object \n",
      " 5   udaljenost_leta               25976 non-null  int64  \n",
      " 6   vrijeme_odlaska_dolaska       25976 non-null  int64  \n",
      " 7   kasnjenje_polaska_u_minutama  25976 non-null  int64  \n",
      " 8   kasnjenje_dolaska_u_minutama  25893 non-null  float64\n",
      " 9   zadovoljstvo_putnika          25976 non-null  object \n",
      "dtypes: float64(1), int64(4), object(5)\n",
      "memory usage: 2.0+ MB\n"
     ]
    }
   ],
   "source": [
    "podaci.info()"
   ]
  },
  {
   "cell_type": "code",
   "execution_count": 7,
   "id": "b7fede97",
   "metadata": {},
   "outputs": [
    {
     "data": {
      "text/plain": [
       "Text(0.5, 1.0, 'Raspodjela putnika')"
      ]
     },
     "execution_count": 7,
     "metadata": {},
     "output_type": "execute_result"
    },
    {
     "data": {
      "image/png": "[encoded data removed]",
      "text/plain": [
       "<Figure size 432x288 with 1 Axes>"
      ]
     },
     "metadata": {
      "needs_background": "light"
     },
     "output_type": "display_data"
    }
   ],
   "source": [
    "#Prikaz grafika raspoređenosti kategorija klasa u datasetu\n",
    "import seaborn as sns\n",
    "plot = sns.countplot(x=\"zadovoljstvo_putnika\", data=podaci, order=podaci.zadovoljstvo_putnika.value_counts().index)\n",
    "plot.set_xticklabels(plot.get_xticklabels(), rotation=45)\n",
    "plot.set_title(\"Raspodjela putnika\")"
   ]
  },
  {
   "cell_type": "markdown",
   "id": "9b2ddecb",
   "metadata": {},
   "source": [
    "Pregled prvih nekoliko redova u setu podataka"
   ]
  },
  {
   "cell_type": "code",
   "execution_count": 8,
   "id": "bcb463e9",
   "metadata": {
    "scrolled": true
   },
   "outputs": [
    {
     "data": {
      "text/html": [
       "<div>\n",
       "<style scoped>\n",
       "    .dataframe tbody tr th:only-of-type {\n",
       "        vertical-align: middle;\n",
       "    }\n",
       "\n",
       "    .dataframe tbody tr th {\n",
       "        vertical-align: top;\n",
       "    }\n",
       "\n",
       "    .dataframe thead th {\n",
       "        text-align: right;\n",
       "    }\n",
       "</style>\n",
       "<table border=\"1\" class=\"dataframe\">\n",
       "  <thead>\n",
       "    <tr style=\"text-align: right;\">\n",
       "      <th></th>\n",
       "      <th>spol</th>\n",
       "      <th>tip_putnika</th>\n",
       "      <th>godine</th>\n",
       "      <th>vrsta_putovanja</th>\n",
       "      <th>klasa</th>\n",
       "      <th>udaljenost_leta</th>\n",
       "      <th>vrijeme_odlaska_dolaska</th>\n",
       "      <th>kasnjenje_polaska_u_minutama</th>\n",
       "      <th>kasnjenje_dolaska_u_minutama</th>\n",
       "      <th>zadovoljstvo_putnika</th>\n",
       "    </tr>\n",
       "  </thead>\n",
       "  <tbody>\n",
       "    <tr>\n",
       "      <th>0</th>\n",
       "      <td>zensko</td>\n",
       "      <td>Lojalan putnik</td>\n",
       "      <td>52</td>\n",
       "      <td>Poslovno putovanje</td>\n",
       "      <td>Ekonomska</td>\n",
       "      <td>160</td>\n",
       "      <td>4</td>\n",
       "      <td>50</td>\n",
       "      <td>44.0</td>\n",
       "      <td>Zadovoljan</td>\n",
       "    </tr>\n",
       "    <tr>\n",
       "      <th>1</th>\n",
       "      <td>zensko</td>\n",
       "      <td>Lojalan putnik</td>\n",
       "      <td>36</td>\n",
       "      <td>Poslovno putovanje</td>\n",
       "      <td>Poslovna</td>\n",
       "      <td>2863</td>\n",
       "      <td>1</td>\n",
       "      <td>0</td>\n",
       "      <td>0.0</td>\n",
       "      <td>Zadovoljan</td>\n",
       "    </tr>\n",
       "    <tr>\n",
       "      <th>2</th>\n",
       "      <td>musko</td>\n",
       "      <td>Nelojalan putnik</td>\n",
       "      <td>20</td>\n",
       "      <td>Poslovno putovanje</td>\n",
       "      <td>Ekonomska</td>\n",
       "      <td>192</td>\n",
       "      <td>0</td>\n",
       "      <td>0</td>\n",
       "      <td>0.0</td>\n",
       "      <td>Neutralan ili nezadovoljan</td>\n",
       "    </tr>\n",
       "    <tr>\n",
       "      <th>3</th>\n",
       "      <td>musko</td>\n",
       "      <td>Lojalan putnik</td>\n",
       "      <td>44</td>\n",
       "      <td>Poslovno putovanje</td>\n",
       "      <td>Poslovna</td>\n",
       "      <td>3377</td>\n",
       "      <td>0</td>\n",
       "      <td>0</td>\n",
       "      <td>6.0</td>\n",
       "      <td>Zadovoljan</td>\n",
       "    </tr>\n",
       "    <tr>\n",
       "      <th>4</th>\n",
       "      <td>zensko</td>\n",
       "      <td>Lojalan putnik</td>\n",
       "      <td>49</td>\n",
       "      <td>Poslovno putovanje</td>\n",
       "      <td>Ekonomska</td>\n",
       "      <td>1182</td>\n",
       "      <td>3</td>\n",
       "      <td>0</td>\n",
       "      <td>20.0</td>\n",
       "      <td>Zadovoljan</td>\n",
       "    </tr>\n",
       "    <tr>\n",
       "      <th>5</th>\n",
       "      <td>musko</td>\n",
       "      <td>Lojalan putnik</td>\n",
       "      <td>16</td>\n",
       "      <td>Poslovno putovanje</td>\n",
       "      <td>Ekonomska</td>\n",
       "      <td>311</td>\n",
       "      <td>3</td>\n",
       "      <td>0</td>\n",
       "      <td>0.0</td>\n",
       "      <td>Zadovoljan</td>\n",
       "    </tr>\n",
       "    <tr>\n",
       "      <th>6</th>\n",
       "      <td>zensko</td>\n",
       "      <td>Lojalan putnik</td>\n",
       "      <td>77</td>\n",
       "      <td>Poslovno putovanje</td>\n",
       "      <td>Poslovna</td>\n",
       "      <td>3987</td>\n",
       "      <td>5</td>\n",
       "      <td>0</td>\n",
       "      <td>0.0</td>\n",
       "      <td>Zadovoljan</td>\n",
       "    </tr>\n",
       "    <tr>\n",
       "      <th>7</th>\n",
       "      <td>zensko</td>\n",
       "      <td>Lojalan putnik</td>\n",
       "      <td>43</td>\n",
       "      <td>Poslovno putovanje</td>\n",
       "      <td>Poslovna</td>\n",
       "      <td>2556</td>\n",
       "      <td>2</td>\n",
       "      <td>77</td>\n",
       "      <td>65.0</td>\n",
       "      <td>Zadovoljan</td>\n",
       "    </tr>\n",
       "    <tr>\n",
       "      <th>8</th>\n",
       "      <td>musko</td>\n",
       "      <td>Lojalan putnik</td>\n",
       "      <td>47</td>\n",
       "      <td>Poslovno putovanje</td>\n",
       "      <td>Ekonomska</td>\n",
       "      <td>556</td>\n",
       "      <td>2</td>\n",
       "      <td>1</td>\n",
       "      <td>0.0</td>\n",
       "      <td>Zadovoljan</td>\n",
       "    </tr>\n",
       "    <tr>\n",
       "      <th>9</th>\n",
       "      <td>zensko</td>\n",
       "      <td>Lojalan putnik</td>\n",
       "      <td>46</td>\n",
       "      <td>Poslovno putovanje</td>\n",
       "      <td>Poslovna</td>\n",
       "      <td>1744</td>\n",
       "      <td>2</td>\n",
       "      <td>28</td>\n",
       "      <td>14.0</td>\n",
       "      <td>Zadovoljan</td>\n",
       "    </tr>\n",
       "  </tbody>\n",
       "</table>\n",
       "</div>"
      ],
      "text/plain": [
       "     spol       tip_putnika  godine     vrsta_putovanja      klasa  \\\n",
       "0  zensko    Lojalan putnik      52  Poslovno putovanje  Ekonomska   \n",
       "1  zensko    Lojalan putnik      36  Poslovno putovanje   Poslovna   \n",
       "2   musko  Nelojalan putnik      20  Poslovno putovanje  Ekonomska   \n",
       "3   musko    Lojalan putnik      44  Poslovno putovanje   Poslovna   \n",
       "4  zensko    Lojalan putnik      49  Poslovno putovanje  Ekonomska   \n",
       "5   musko    Lojalan putnik      16  Poslovno putovanje  Ekonomska   \n",
       "6  zensko    Lojalan putnik      77  Poslovno putovanje   Poslovna   \n",
       "7  zensko    Lojalan putnik      43  Poslovno putovanje   Poslovna   \n",
       "8   musko    Lojalan putnik      47  Poslovno putovanje  Ekonomska   \n",
       "9  zensko    Lojalan putnik      46  Poslovno putovanje   Poslovna   \n",
       "\n",
       "   udaljenost_leta  vrijeme_odlaska_dolaska  kasnjenje_polaska_u_minutama  \\\n",
       "0              160                        4                            50   \n",
       "1             2863                        1                             0   \n",
       "2              192                        0                             0   \n",
       "3             3377                        0                             0   \n",
       "4             1182                        3                             0   \n",
       "5              311                        3                             0   \n",
       "6             3987                        5                             0   \n",
       "7             2556                        2                            77   \n",
       "8              556                        2                             1   \n",
       "9             1744                        2                            28   \n",
       "\n",
       "   kasnjenje_dolaska_u_minutama        zadovoljstvo_putnika  \n",
       "0                          44.0                  Zadovoljan  \n",
       "1                           0.0                  Zadovoljan  \n",
       "2                           0.0  Neutralan ili nezadovoljan  \n",
       "3                           6.0                  Zadovoljan  \n",
       "4                          20.0                  Zadovoljan  \n",
       "5                           0.0                  Zadovoljan  \n",
       "6                           0.0                  Zadovoljan  \n",
       "7                          65.0                  Zadovoljan  \n",
       "8                           0.0                  Zadovoljan  \n",
       "9                          14.0                  Zadovoljan  "
      ]
     },
     "execution_count": 8,
     "metadata": {},
     "output_type": "execute_result"
    }
   ],
   "source": [
    "podaci.head(10)"
   ]
  },
  {
   "cell_type": "markdown",
   "id": "f02b20f7",
   "metadata": {},
   "source": [
    "Pregled statističkih podataka unutar seta podataka"
   ]
  },
  {
   "cell_type": "code",
   "execution_count": 9,
   "id": "b98aabf1",
   "metadata": {},
   "outputs": [
    {
     "data": {
      "text/html": [
       "<div>\n",
       "<style scoped>\n",
       "    .dataframe tbody tr th:only-of-type {\n",
       "        vertical-align: middle;\n",
       "    }\n",
       "\n",
       "    .dataframe tbody tr th {\n",
       "        vertical-align: top;\n",
       "    }\n",
       "\n",
       "    .dataframe thead th {\n",
       "        text-align: right;\n",
       "    }\n",
       "</style>\n",
       "<table border=\"1\" class=\"dataframe\">\n",
       "  <thead>\n",
       "    <tr style=\"text-align: right;\">\n",
       "      <th></th>\n",
       "      <th>godine</th>\n",
       "      <th>udaljenost_leta</th>\n",
       "      <th>vrijeme_odlaska_dolaska</th>\n",
       "      <th>kasnjenje_polaska_u_minutama</th>\n",
       "      <th>kasnjenje_dolaska_u_minutama</th>\n",
       "    </tr>\n",
       "  </thead>\n",
       "  <tbody>\n",
       "    <tr>\n",
       "      <th>count</th>\n",
       "      <td>25976.000000</td>\n",
       "      <td>25976.000000</td>\n",
       "      <td>25976.000000</td>\n",
       "      <td>25976.00000</td>\n",
       "      <td>25893.000000</td>\n",
       "    </tr>\n",
       "    <tr>\n",
       "      <th>mean</th>\n",
       "      <td>39.620958</td>\n",
       "      <td>1193.788459</td>\n",
       "      <td>3.046812</td>\n",
       "      <td>14.30609</td>\n",
       "      <td>14.740857</td>\n",
       "    </tr>\n",
       "    <tr>\n",
       "      <th>std</th>\n",
       "      <td>15.135685</td>\n",
       "      <td>998.683999</td>\n",
       "      <td>1.533371</td>\n",
       "      <td>37.42316</td>\n",
       "      <td>37.517539</td>\n",
       "    </tr>\n",
       "    <tr>\n",
       "      <th>min</th>\n",
       "      <td>7.000000</td>\n",
       "      <td>31.000000</td>\n",
       "      <td>0.000000</td>\n",
       "      <td>0.00000</td>\n",
       "      <td>0.000000</td>\n",
       "    </tr>\n",
       "    <tr>\n",
       "      <th>25%</th>\n",
       "      <td>27.000000</td>\n",
       "      <td>414.000000</td>\n",
       "      <td>2.000000</td>\n",
       "      <td>0.00000</td>\n",
       "      <td>0.000000</td>\n",
       "    </tr>\n",
       "    <tr>\n",
       "      <th>50%</th>\n",
       "      <td>40.000000</td>\n",
       "      <td>849.000000</td>\n",
       "      <td>3.000000</td>\n",
       "      <td>0.00000</td>\n",
       "      <td>0.000000</td>\n",
       "    </tr>\n",
       "    <tr>\n",
       "      <th>75%</th>\n",
       "      <td>51.000000</td>\n",
       "      <td>1744.000000</td>\n",
       "      <td>4.000000</td>\n",
       "      <td>12.00000</td>\n",
       "      <td>13.000000</td>\n",
       "    </tr>\n",
       "    <tr>\n",
       "      <th>max</th>\n",
       "      <td>85.000000</td>\n",
       "      <td>4983.000000</td>\n",
       "      <td>5.000000</td>\n",
       "      <td>1128.00000</td>\n",
       "      <td>1115.000000</td>\n",
       "    </tr>\n",
       "  </tbody>\n",
       "</table>\n",
       "</div>"
      ],
      "text/plain": [
       "             godine  udaljenost_leta  vrijeme_odlaska_dolaska  \\\n",
       "count  25976.000000     25976.000000             25976.000000   \n",
       "mean      39.620958      1193.788459                 3.046812   \n",
       "std       15.135685       998.683999                 1.533371   \n",
       "min        7.000000        31.000000                 0.000000   \n",
       "25%       27.000000       414.000000                 2.000000   \n",
       "50%       40.000000       849.000000                 3.000000   \n",
       "75%       51.000000      1744.000000                 4.000000   \n",
       "max       85.000000      4983.000000                 5.000000   \n",
       "\n",
       "       kasnjenje_polaska_u_minutama  kasnjenje_dolaska_u_minutama  \n",
       "count                   25976.00000                  25893.000000  \n",
       "mean                       14.30609                     14.740857  \n",
       "std                        37.42316                     37.517539  \n",
       "min                         0.00000                      0.000000  \n",
       "25%                         0.00000                      0.000000  \n",
       "50%                         0.00000                      0.000000  \n",
       "75%                        12.00000                     13.000000  \n",
       "max                      1128.00000                   1115.000000  "
      ]
     },
     "execution_count": 9,
     "metadata": {},
     "output_type": "execute_result"
    }
   ],
   "source": [
    "podaci.describe()"
   ]
  },
  {
   "cell_type": "code",
   "execution_count": 10,
   "id": "846180d5",
   "metadata": {},
   "outputs": [
    {
     "data": {
      "text/plain": [
       "Text(0.5, 1.0, 'Vrsta putovanja')"
      ]
     },
     "execution_count": 10,
     "metadata": {},
     "output_type": "execute_result"
    },
    {
     "data": {
      "image/png": "[encoded data removed]",
      "text/plain": [
       "<Figure size 432x288 with 1 Axes>"
      ]
     },
     "metadata": {
      "needs_background": "light"
     },
     "output_type": "display_data"
    }
   ],
   "source": [
    "#Prikaz grafika raspoređenosti kategorija klasa u datasetu\n",
    "import seaborn as sns\n",
    "plot = sns.countplot(x=\"vrsta_putovanja\", data=podaci, order=podaci.vrsta_putovanja.value_counts().index)\n",
    "plot.set_xticklabels(plot.get_xticklabels(), rotation=45)\n",
    "plot.set_title(\"Vrsta putovanja\")"
   ]
  },
  {
   "cell_type": "code",
   "execution_count": 11,
   "id": "cfe06a62",
   "metadata": {},
   "outputs": [
    {
     "data": {
      "text/plain": [
       "spol                               2\n",
       "tip_putnika                        2\n",
       "godine                            75\n",
       "vrsta_putovanja                    2\n",
       "klasa                              3\n",
       "udaljenost_leta                 3281\n",
       "vrijeme_odlaska_dolaska            6\n",
       "kasnjenje_polaska_u_minutama     313\n",
       "kasnjenje_dolaska_u_minutama     320\n",
       "zadovoljstvo_putnika               2\n",
       "dtype: int64"
      ]
     },
     "execution_count": 11,
     "metadata": {},
     "output_type": "execute_result"
    }
   ],
   "source": [
    "podaci.nunique()"
   ]
  },
  {
   "cell_type": "code",
   "execution_count": 12,
   "id": "6d13dd3e",
   "metadata": {},
   "outputs": [
    {
     "data": {
      "text/plain": [
       "array(['Ekonomska', 'Poslovna', 'Ekonomska Plus'], dtype=object)"
      ]
     },
     "execution_count": 12,
     "metadata": {},
     "output_type": "execute_result"
    }
   ],
   "source": [
    "#Prikaz svih kategorija klasa\n",
    "podaci.klasa.unique()"
   ]
  },
  {
   "cell_type": "code",
   "execution_count": 13,
   "id": "92c0cd54",
   "metadata": {},
   "outputs": [
    {
     "data": {
      "text/plain": [
       "Text(0.5, 1.0, 'Raspodjela klasa prema kategoriji')"
      ]
     },
     "execution_count": 13,
     "metadata": {},
     "output_type": "execute_result"
    },
    {
     "data": {
      "image/png": "[encoded data removed]",
      "text/plain": [
       "<Figure size 432x288 with 1 Axes>"
      ]
     },
     "metadata": {
      "needs_background": "light"
     },
     "output_type": "display_data"
    }
   ],
   "source": [
    "#Prikaz grafika raspoređenosti kategorija klasa u datasetu\n",
    "import seaborn as sns\n",
    "plot = sns.countplot(x=\"klasa\", data=podaci, order=podaci.klasa.value_counts().index)\n",
    "plot.set_xticklabels(plot.get_xticklabels(), rotation=45)\n",
    "plot.set_title(\"Raspodjela klasa prema kategoriji\")"
   ]
  },
  {
   "cell_type": "code",
   "execution_count": 14,
   "id": "a481cf1c",
   "metadata": {},
   "outputs": [
    {
     "data": {
      "text/plain": [
       "0        False\n",
       "1        False\n",
       "2        False\n",
       "3        False\n",
       "4        False\n",
       "         ...  \n",
       "25971    False\n",
       "25972    False\n",
       "25973    False\n",
       "25974    False\n",
       "25975    False\n",
       "Length: 25976, dtype: bool"
      ]
     },
     "execution_count": 14,
     "metadata": {},
     "output_type": "execute_result"
    }
   ],
   "source": [
    "podaci.duplicated()"
   ]
  },
  {
   "cell_type": "code",
   "execution_count": 15,
   "id": "454a021c",
   "metadata": {},
   "outputs": [],
   "source": [
    "podaci.drop_duplicates(inplace=True)"
   ]
  },
  {
   "cell_type": "code",
   "execution_count": 16,
   "id": "ac454d81",
   "metadata": {},
   "outputs": [
    {
     "name": "stdout",
     "output_type": "stream",
     "text": [
      "<class 'pandas.core.frame.DataFrame'>\n",
      "Int64Index: 25941 entries, 0 to 25975\n",
      "Data columns (total 10 columns):\n",
      " #   Column                        Non-Null Count  Dtype  \n",
      "---  ------                        --------------  -----  \n",
      " 0   spol                          25941 non-null  object \n",
      " 1   tip_putnika                   25941 non-null  object \n",
      " 2   godine                        25941 non-null  int64  \n",
      " 3   vrsta_putovanja               25941 non-null  object \n",
      " 4   klasa                         25941 non-null  object \n",
      " 5   udaljenost_leta               25941 non-null  int64  \n",
      " 6   vrijeme_odlaska_dolaska       25941 non-null  int64  \n",
      " 7   kasnjenje_polaska_u_minutama  25941 non-null  int64  \n",
      " 8   kasnjenje_dolaska_u_minutama  25858 non-null  float64\n",
      " 9   zadovoljstvo_putnika          25941 non-null  object \n",
      "dtypes: float64(1), int64(4), object(5)\n",
      "memory usage: 2.2+ MB\n"
     ]
    }
   ],
   "source": [
    "podaci.info()"
   ]
  },
  {
   "cell_type": "code",
   "execution_count": 17,
   "id": "cd504091",
   "metadata": {},
   "outputs": [
    {
     "data": {
      "text/plain": [
       "spol                             0\n",
       "tip_putnika                      0\n",
       "godine                           0\n",
       "vrsta_putovanja                  0\n",
       "klasa                            0\n",
       "udaljenost_leta                  0\n",
       "vrijeme_odlaska_dolaska          0\n",
       "kasnjenje_polaska_u_minutama     0\n",
       "kasnjenje_dolaska_u_minutama    83\n",
       "zadovoljstvo_putnika             0\n",
       "dtype: int64"
      ]
     },
     "execution_count": 17,
     "metadata": {},
     "output_type": "execute_result"
    }
   ],
   "source": [
    "#Ispitivanje nedostajućih vrijednosti\n",
    "podaci.isnull()\n",
    "#Sumiranje nedostajućih vrijednosti po kolonama\n",
    "podaci.isnull().sum()"
   ]
  },
  {
   "cell_type": "code",
   "execution_count": 18,
   "id": "118a1902",
   "metadata": {},
   "outputs": [
    {
     "data": {
      "text/plain": [
       "array([['zensko', 'Lojalan putnik', 52, ..., 4, 50, 44.0],\n",
       "       ['zensko', 'Lojalan putnik', 36, ..., 1, 0, 0.0],\n",
       "       ['musko', 'Nelojalan putnik', 20, ..., 0, 0, 0.0],\n",
       "       ...,\n",
       "       ['zensko', 'Lojalan putnik', 17, ..., 5, 0, 0.0],\n",
       "       ['musko', 'Lojalan putnik', 14, ..., 3, 0, 0.0],\n",
       "       ['zensko', 'Lojalan putnik', 42, ..., 5, 0, 0.0]], dtype=object)"
      ]
     },
     "execution_count": 18,
     "metadata": {},
     "output_type": "execute_result"
    }
   ],
   "source": [
    "#Podjela dataset-a na nezavisne vrijednosti i ciljnu vrijednost\n",
    "X = podaci[['spol', 'tip_putnika', 'godine', 'vrsta_putovanja', 'klasa', 'udaljenost_leta', 'vrijeme_odlaska_dolaska', 'kasnjenje_polaska_u_minutama', 'kasnjenje_dolaska_u_minutama']].values\n",
    "y = podaci['zadovoljstvo_putnika'].values\n",
    "X"
   ]
  },
  {
   "cell_type": "code",
   "execution_count": 19,
   "id": "0e1b4fb1",
   "metadata": {},
   "outputs": [],
   "source": [
    "from sklearn.impute import SimpleImputer\n",
    "# korištenje SimpleImputer klase za popunjavanje nedostajućih vrijednosti za kašnjenje dolaska u minutama\n",
    "imputer = SimpleImputer(missing_values=np.nan, strategy='mean')\n",
    "imputer.fit(X[:, 8:9])\n",
    "X[:, 8:9] = imputer.transform(X[:, 8:9])"
   ]
  },
  {
   "cell_type": "code",
   "execution_count": 20,
   "id": "8e4ae3f6",
   "metadata": {},
   "outputs": [
    {
     "data": {
      "text/plain": [
       "array([0, 0, 1, ..., 0, 0, 0], dtype=object)"
      ]
     },
     "execution_count": 20,
     "metadata": {},
     "output_type": "execute_result"
    }
   ],
   "source": [
    "# Kodiranje vrijednosti spola i tipa putnika\n",
    "from sklearn.preprocessing import LabelEncoder\n",
    "le = LabelEncoder()\n",
    "X[:, 0] = le.fit_transform(X[:, 0])\n",
    "X[:, 0]\n",
    "\n",
    "le = LabelEncoder()\n",
    "X[:, 1] = le.fit_transform(X[:, 1])\n",
    "X[:, 1]"
   ]
  },
  {
   "cell_type": "code",
   "execution_count": 21,
   "id": "e824e08f",
   "metadata": {},
   "outputs": [
    {
     "data": {
      "text/plain": [
       "array([[0.0, 1.0, 1.0, ..., 4, 50, 44.0],\n",
       "       [0.0, 1.0, 0.0, ..., 1, 0, 0.0],\n",
       "       [0.0, 1.0, 1.0, ..., 0, 0, 0.0],\n",
       "       ...,\n",
       "       [1.0, 0.0, 1.0, ..., 5, 0, 0.0],\n",
       "       [0.0, 1.0, 0.0, ..., 3, 0, 0.0],\n",
       "       [1.0, 0.0, 1.0, ..., 5, 0, 0.0]], dtype=object)"
      ]
     },
     "execution_count": 21,
     "metadata": {},
     "output_type": "execute_result"
    }
   ],
   "source": [
    "# Obrada kategoričkih (deskriptivnih) podataka za klasu i vrstu putovanja\n",
    "from sklearn.compose import ColumnTransformer\n",
    "from sklearn.preprocessing import OneHotEncoder\n",
    "\n",
    "ct = ColumnTransformer(transformers=[('encoder', OneHotEncoder(), [3,4])], remainder='passthrough')\n",
    "X = np.array(ct.fit_transform(X))\n",
    "\n",
    "X"
   ]
  },
  {
   "cell_type": "code",
   "execution_count": 22,
   "id": "546f9c2d",
   "metadata": {},
   "outputs": [
    {
     "name": "stdout",
     "output_type": "stream",
     "text": [
      "[1 1 0 ... 0 1 0]\n"
     ]
    }
   ],
   "source": [
    "from sklearn.preprocessing import LabelEncoder\n",
    "le = LabelEncoder()\n",
    "y = le.fit_transform(y)\n",
    "print(y)"
   ]
  },
  {
   "cell_type": "code",
   "execution_count": 23,
   "id": "9c3c5f53",
   "metadata": {},
   "outputs": [],
   "source": [
    "# Rastavljanje data set-a na set podataka za trening i set podataka za test\n",
    "from sklearn.model_selection import train_test_split\n",
    "X_train, X_test, y_train, y_test = train_test_split(X, y, test_size=0.2, random_state=1)"
   ]
  },
  {
   "cell_type": "code",
   "execution_count": 24,
   "id": "c544620d",
   "metadata": {},
   "outputs": [
    {
     "data": {
      "text/plain": [
       "array([[0.0, 1.0, 0.0, ..., 5, 158, 150.0],\n",
       "       [0.0, 1.0, 1.0, ..., 4, 51, 59.0],\n",
       "       [0.0, 1.0, 1.0, ..., 3, 0, 0.0],\n",
       "       ...,\n",
       "       [0.0, 1.0, 1.0, ..., 4, 0, 0.0],\n",
       "       [1.0, 0.0, 1.0, ..., 4, 0, 0.0],\n",
       "       [1.0, 0.0, 1.0, ..., 4, 34, 15.0]], dtype=object)"
      ]
     },
     "execution_count": 24,
     "metadata": {},
     "output_type": "execute_result"
    }
   ],
   "source": [
    "X_train\n"
   ]
  },
  {
   "cell_type": "code",
   "execution_count": 25,
   "id": "1180eba5",
   "metadata": {},
   "outputs": [
    {
     "data": {
      "text/plain": [
       "array([[0.0, 1.0, 0.0, ..., 0, 0, 0.0],\n",
       "       [0.0, 1.0, 0.0, ..., 3, 2, 1.0],\n",
       "       [0.0, 1.0, 0.0, ..., 1, 0, 0.0],\n",
       "       ...,\n",
       "       [0.0, 1.0, 0.0, ..., 0, 0, 12.0],\n",
       "       [0.0, 1.0, 0.0, ..., 2, 0, 0.0],\n",
       "       [1.0, 0.0, 1.0, ..., 5, 0, 6.0]], dtype=object)"
      ]
     },
     "execution_count": 25,
     "metadata": {},
     "output_type": "execute_result"
    }
   ],
   "source": [
    "X_test"
   ]
  },
  {
   "cell_type": "code",
   "execution_count": 26,
   "id": "f7466d95",
   "metadata": {},
   "outputs": [
    {
     "data": {
      "text/plain": [
       "array([1, 0, 1, ..., 1, 0, 0])"
      ]
     },
     "execution_count": 26,
     "metadata": {},
     "output_type": "execute_result"
    }
   ],
   "source": [
    "y_train"
   ]
  },
  {
   "cell_type": "code",
   "execution_count": 27,
   "id": "1b31897a",
   "metadata": {},
   "outputs": [
    {
     "data": {
      "text/plain": [
       "array([1, 1, 1, ..., 1, 0, 0])"
      ]
     },
     "execution_count": 27,
     "metadata": {},
     "output_type": "execute_result"
    }
   ],
   "source": [
    "y_test"
   ]
  },
  {
   "cell_type": "code",
   "execution_count": 28,
   "id": "101b664a",
   "metadata": {},
   "outputs": [
    {
     "data": {
      "text/plain": [
       "array([[0.0, 1.0, -0.8945920632667881, ..., 0, 0, 0.0],\n",
       "       [0.0, 1.0, -0.8945920632667881, ..., 3, 2, 1.0],\n",
       "       [0.0, 1.0, -0.8945920632667881, ..., 1, 0, 0.0],\n",
       "       ...,\n",
       "       [0.0, 1.0, -0.8945920632667881, ..., 0, 0, 12.0],\n",
       "       [0.0, 1.0, -0.8945920632667881, ..., 2, 0, 0.0],\n",
       "       [1.0, 0.0, 1.1178279363985113, ..., 5, 0, 6.0]], dtype=object)"
      ]
     },
     "execution_count": 28,
     "metadata": {},
     "output_type": "execute_result"
    }
   ],
   "source": [
    "# Skaliranje vrijednosti godina\n",
    "from sklearn.preprocessing import StandardScaler\n",
    "sc = StandardScaler()\n",
    "X_train[:, 2:3] = sc.fit_transform(X_train[:, 2:3])\n",
    "\n",
    "X_test[:, 2:3] = sc.transform(X_test[:, 2:3])\n",
    "X_test"
   ]
  },
  {
   "cell_type": "code",
   "execution_count": 30,
   "id": "769a8c58",
   "metadata": {},
   "outputs": [
    {
     "name": "stdout",
     "output_type": "stream",
     "text": [
      "Tačnost: 0.7222971670842167\n"
     ]
    }
   ],
   "source": [
    "clf = DecisionTreeClassifier()\n",
    "\n",
    "#Treniranje klasifikatora\n",
    "clf = clf.fit(X_train,y_train)\n",
    "\n",
    "#Predviđanje rezultata na testnim podacima\n",
    "y_pred = clf.predict(X_test)\n",
    "\n",
    "# Tačnost modela stabla odlučivanja\n",
    "from sklearn.metrics import accuracy_score, recall_score, precision_score\n",
    "decision_tree_tacnost = accuracy_score(y_test, y_pred)\n",
    "print(\"Tačnost: \" +  str(decision_tree_tacnost))\n"
   ]
  },
  {
   "cell_type": "code",
   "execution_count": 31,
   "id": "343ec286",
   "metadata": {},
   "outputs": [
    {
     "name": "stdout",
     "output_type": "stream",
     "text": [
      "Tačnost: 0.7702832915783387\n"
     ]
    },
    {
     "name": "stderr",
     "output_type": "stream",
     "text": [
      "C:\\Users\\Korisnik\\anaconda3\\lib\\site-packages\\sklearn\\linear_model\\_logistic.py:763: ConvergenceWarning:\n",
      "\n",
      "lbfgs failed to converge (status=1):\n",
      "STOP: TOTAL NO. of ITERATIONS REACHED LIMIT.\n",
      "\n",
      "Increase the number of iterations (max_iter) or scale the data as shown in:\n",
      "    https://scikit-learn.org/stable/modules/preprocessing.html\n",
      "Please also refer to the documentation for alternative solver options:\n",
      "    https://scikit-learn.org/stable/modules/linear_model.html#logistic-regression\n",
      "\n"
     ]
    }
   ],
   "source": [
    "#Kreiranje Logistic Regression klasifikatora\n",
    "from sklearn.linear_model import LogisticRegression\n",
    "model = LogisticRegression()\n",
    "\n",
    "#Treniranje klasifikatora\n",
    "model.fit(X_train, y_train)\n",
    "\n",
    "#Predviđanje rezultata na testnim podacima\n",
    "y_pred = model.predict(X_test)\n",
    "\n",
    "# Tačnost modela logistic regression\n",
    "from sklearn.metrics import accuracy_score, recall_score, precision_score\n",
    "logistic_tacnost = accuracy_score(y_test, y_pred)\n",
    "print(\"Tačnost: \" +  str(logistic_tacnost))\n"
   ]
  },
  {
   "cell_type": "code",
   "execution_count": 35,
   "id": "e4fa6dc2",
   "metadata": {},
   "outputs": [
    {
     "name": "stdout",
     "output_type": "stream",
     "text": [
      "Tačnost Naivne Bayes klasifikatora: 0.7635382539988437\n"
     ]
    },
    {
     "data": {
      "text/plain": [
       "<sklearn.metrics._plot.confusion_matrix.ConfusionMatrixDisplay at 0x2c5dc4e6e50>"
      ]
     },
     "execution_count": 35,
     "metadata": {},
     "output_type": "execute_result"
    },
    {
     "data": {
      "image/png": "[encoded data removed]",
      "text/plain": [
       "<Figure size 432x288 with 2 Axes>"
      ]
     },
     "metadata": {
      "needs_background": "light"
     },
     "output_type": "display_data"
    }
   ],
   "source": [
    "#Kreiranje Naive Bayes klasifikatora\n",
    "from sklearn import metrics\n",
    "from sklearn.naive_bayes import GaussianNB\n",
    "model = GaussianNB()\n",
    "\n",
    "#Treniranje klasifikatora\n",
    "model.fit(X_train, y_train)\n",
    "  \n",
    "#Predviđanje rezultata na testnim podacima\n",
    "y_pred = model.predict(X_test)\n",
    "\n",
    "# Tačnost modela Naive Bayes\n",
    "from sklearn.metrics import accuracy_score, recall_score, precision_score\n",
    "naive_tacnost = accuracy_score(y_test, y_pred)\n",
    "print(\"Tačnost Naivne Bayes klasifikatora: \" +  str(naive_tacnost))\n",
    "plot_confusion_matrix(model, X_test, y_test)"
   ]
  },
  {
   "cell_type": "code",
   "execution_count": 36,
   "id": "840d6338",
   "metadata": {},
   "outputs": [
    {
     "data": {
      "image/png": "[encoded data removed]",
      "text/plain": [
       "<Figure size 1152x576 with 1 Axes>"
      ]
     },
     "metadata": {},
     "output_type": "display_data"
    }
   ],
   "source": [
    "import matplotlib.pyplot as plt\n",
    "tacnost = pd.DataFrame({'classifier':['Stablo odlucivanja','Logisticka regresija', 'Naive Bayes'],\n",
    "                           'data_set':['Stabla odlucivanja', 'Logisticke regresije', 'Naive Bayes'],\n",
    "                          'accuracy':[decision_tree_tacnost, logistic_tacnost, naive_tacnost]\n",
    "                          })\n",
    "sns.set(style=\"whitegrid\")\n",
    "plt.figure(figsize=(16, 8))\n",
    "ax = sns.barplot(x = 'classifier', y = 'accuracy', hue = 'data_set', data = tacnost)\n",
    "ax.set_xlabel('', fontsize = 15)\n",
    "ax.set_ylabel('Tacnost', fontsize = 15)\n",
    "ax.tick_params(labelsize = 15)\n",
    "#Odvajanje legende od grafika\n",
    "plt.legend(bbox_to_anchor = (1.05, 1), loc = 2, borderaxespad = 0., fontsize = 15)\n",
    "plt.show()"
   ]
  },
  {
   "cell_type": "code",
   "execution_count": null,
   "id": "e9cd8fc2",
   "metadata": {},
   "outputs": [],
   "source": []
  }
 ],
 "metadata": {
  "kernelspec": {
   "display_name": "Python 3 (ipykernel)",
   "language": "python",
   "name": "python3"
  },
  "language_info": {
   "codemirror_mode": {
    "name": "ipython",
    "version": 3
   },
   "file_extension": ".py",
   "mimetype": "text/x-python",
   "name": "python",
   "nbconvert_exporter": "python",
   "pygments_lexer": "ipython3",
   "version": "3.10.9"
  }
 },
 "nbformat": 4,
 "nbformat_minor": 5
}
